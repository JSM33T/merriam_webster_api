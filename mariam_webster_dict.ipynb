{
 "cells": [
  {
   "cell_type": "code",
   "execution_count": 1,
   "id": "760d596e",
   "metadata": {},
   "outputs": [
    {
     "name": "stdout",
     "output_type": "stream",
     "text": [
      "sample\n"
     ]
    }
   ],
   "source": [
    "import urllib, json\n",
    "from IPython.display import Audio \n",
    "str = input()\n",
    "api_link = \"https://dictionaryapi.com/api/v3/references/collegiate/json/\" + str + \"?key=baee74f1-7cf6-4f05-883d-1787e629c3d3\"\n",
    "url = (api_link)\n",
    "response = urllib.request.urlopen(url)\n",
    "data = json.loads(response.read())\n"
   ]
  },
  {
   "cell_type": "code",
   "execution_count": 2,
   "id": "26f6fce3",
   "metadata": {},
   "outputs": [
    {
     "name": "stdout",
     "output_type": "stream",
     "text": [
      "DEFINITIONS:\n",
      "1 : a representative part or a single item from a larger whole or group especially when presented for inspection or shown as evidence of quality : specimen\n",
      "2 : a finite part of a statistical population whose properties are studied to gain information about the whole\n",
      "3 : an excerpt from a recording (such as a popular song by another performer) that is used in a musical composition, recording, or performance\n"
     ]
    }
   ],
   "source": [
    "print(\"DEFINITIONS:\")\n",
    "ln= len(data[0][\"shortdef\"])\n",
    "count = 0\n",
    "while (count < ln):\n",
    "    print(count+1,\":\",data[0][\"shortdef\"][count])\n",
    "    count = count + 1"
   ]
  },
  {
   "cell_type": "code",
   "execution_count": 3,
   "id": "14e5a6e6",
   "metadata": {},
   "outputs": [
    {
     "name": "stdout",
     "output_type": "stream",
     "text": [
      "PRONOUNCIATION:\n"
     ]
    },
    {
     "data": {
      "text/html": [
       "\n",
       "                <audio  controls=\"controls\" autoplay=\"autoplay\">\n",
       "                    <source src=\"data:audio/mpeg;base64,SUQzAwAAAAAAc1RTU0UAAAAwAAAATEFNRSA2NGJpdHMgdmVyc2lvbiAzLjk5LjUgKGh0dHA6Ly9sYW1lLnNmLm5ldClUUEUxAAAAIQAAAf/+TQBlAHIAcgBpAGEAbQAgAFcAZQBiAHMAdABlAHIAVExFTgAAAAQAAAA2NTj/40DEAAAAAAAAAAAAWGluZwAAAA8AAAAPAAARTwASEhISEhIlJSUlJSUlNTU1NTU1NUVFRUVFRVhYWFhYWFhoaGhoaGhodHR0dHR0i4uLi4uLi6SkpKSkpKS6urq6urrHx8fHx8fH0NDQ0NDQ0Onp6enp6fz8/Pz8/Pz///////8AAABaTEFNRTMuOTlyBDcAAAAALjAAADUIJAMoIQAB6gAAEU8bdcPdAAAAAAAAAAAAAAAAAAAAAAAAAAAAAAAAAAAAAAAAAAAAAAAAAAAA/+NgxAAScAKKX0AAAASpJLp9t542H1AgCBcPg+D4PggCAIAgAwfB8HwfBAEMufeJwfBAEBACGJz+Uy5/6gxg/ggGMBn+GP58P3dYPn/+GP8P/id5P/BBeor9uoiFZ3hl32s2lgABAJmZTYTAxECjUc3d9E1QaBpyBQ7MLC3vHgRTdFR61AbCjTJKR9E14q0psLeOHR31bUcntghdztsoUrl7gMAhnscf9d8rgzj2yiKvv2bcdu8KfhmzNGws7o4crtcksommltYkNyF0Mv5Sw3F7VJSSOOyGBr0DxytcrwdnD7yW5ZK3ofeOyyTXrlaX1ohhKKWET0buU03EbX16eUQPbpG3ry+VSV926xh552XRu/qvzuql+PRq7fiH97/4Um79inhuVPxJ+1bU5N74/jgUsozlkGRqTf/jYMTiUAQWmx+bwAArisXpH0m3al11U1E+EcaVGNxixSQPEKKltXpyx7vxuX41oo5KXGSPUANdVvIjrD0DzpjrshtH4oAhuWXSbVXFjMhFepbApAdd4Ajis0tHhhFG8LaspVVROEQBAcxiapu6mpmfttCAAPTNGfyw2ezapao9Vvrt0zCqmVZertFKdKsrMp0/Z9I+Y1iDAdtOm1lcoEBr0u3ji+mcolI8NvtSOwXn3JNph7zdIitiqRW2xGcMsSgcYdm3UjjEnlgMMd+821xn89azwZ3sOPdXuelJSJrP3Dxh596i4hRatrBhEvJ6W+6V/372n3f618U3bFb7tiWPNDxmfOa0263LPd7+wKqG8rXbHZljskM3HFDUPjubTGHWnzqRbk1rBCTgVhhnTAP0lMFtixlbDL//41DEzjtEFrMfz3gAJ5WpRWRD7UJylSP0kT0wzOTKWMlFDjJYsNxfiVnCnpqc2pm5f+W6AVxnt2rbltfo2sGuZ1aXzFDHJhbCrCmWRuXMAhyG2JtnbgyBC8tQYhFoE9zKtFd1l2K7pmuQJq7sigMOX1AKKmwhI0bSyFcuxKyhKQFZzVX3cT26alOFMxcmOCrnqR0ZcxN7UjFV2JwbhNKEql5ZkpeDUbWTlhhu+qzK/Dxhl7ctl/DfU55567abnVpStoZm/xv2bY19zd6C9VuKqWKjra9eWERTK5SaHUekxshJG0IsUSDRZWrEI2gTLHqoastIZWQDVCs7I9trCSXoz7hyFqH/41DE2TdkFrscwlk8Fig/x1VprMqXpY8qBQA2sWXKQMCQHMRBIMX03NFQGOSVrNFlcMW1fMA0IMbjpMoyMAx0GVa/nFr9mZBqmaIVGWQIGSofmGwfGCogjo1GXxyGcBBGKyeGTxgmY4lCy2GYIcmQQkGF4zmM4iiQTg0AVhlysOCgZjjHpQImTdFJQ0ASSI0OYwQJLJGDaGcNyI3ACqrO1M1d0Hd4fppDmLrZA6LkuszicWgZCRWYY4YoAm8miHDwaFQTFFQrdibjMqXImI2kTd+OTtEvMwbo6c3l2CQovM5nVvTfmZXtr4OvXeYMGSehLX/8JwPxnFY8qvLFW5zb3lqlZtv/42DE81BkFq8Y7lkwE5y+nTMv7eW1s7WtjvENbJ0XhK01XLjk9/4SSYtiCOrDy4ggNB4DJKfqtaOrkkyXCEB4nR36mu5bk0eGSEWhxOAPPmJNiHEivmMC4+OjJddqd7fv83QnaRWnQfG9nZoxQQfxONb0eWJSmJQWOijpcjWjLzs5Z4S4wC5ClnzJEfnjvSgxJU2BIMHRGffWkqLzEBAwoBH6X3+ZLJFi5hgZb2DpVV1ETBgwwAVRYr0/JmWqeV0+vhvboatcX1tQWlQtiHOadVsUhZfCbCujFarRC6A0xUs1ocS5fxyGcZTM+3hJmsssLLX907/3strnOlVREmB6DyTWnQJw8EOPp27gmmaMJGzc0fTtrbY1z21/V/7r7akeRRWaPKSZ0qNiUVKosOdb/ZBfx5aK78Px/+NQxN05C0bK/tPXbYopQ35RpUkqskk0TBipDbehF1JXf/6i5AJgcKJtCBlaq+UojAgAO1VrlPJ5f2neMSfSY7QSTGPAiwZC50ybDG4LUnCYLhBxlxBcc8NMPIIIJpnA6UuoIrMyACgBoi4i4iTZmXzQjzRBCUyLnxyyWXUgdJ8cgtdbqNhCUrE7pJGAroyKS1qWgPkiLPVrNW2oyKmvrNydNUVJMyJ0uk6oxMUEyHE8uvWkk9bKbfqrWpXuhqZk0zAtl43OGiJDx1DklVFBSCbmtmuipOpq1Keh/XV61dBaBiokOwDAQACKULq0klTzeKY9MHQhRiweNm4BejJ1QxUCN4g0/+NAxPAzw/6+/1mIAQaaujItDo0ELRkoYmel6WVBIRwiAAsDQgrVHx9y4rKBGExYABvVZLYvAhu3RfLNkAzluKKAg4VMhPJ33zbMz5oa2pWv1J5cr+FonCUGXcVBAME2Bq6dEDIUExTvtCR6ZLNLuZDGaV4ZSqZmjaJIiTrO1TjICc69Y5F5E2F/aSavQNfl0uW40OPMFpqV/39Zn6wUkZbi1pMlMBC6fXsuWnbWZjeLZM4lLoGl67bLuQ/cfGehH0NuGsKkTd2Godh7G3hBLv/jcMTkVIwWll+byCTVPhm/PHNlXbNaUxls7VnEn7Uw69hqNabpKN7ZqWwzFIzGargxVr1WbhyJuk80E5yh9ozZgSYjMrgKXyiRQK7cufeEQa02XU9JhSx7KD692Bakfu2qKepJucp/oIjOZ0tBH6GSSKan4hcrUedLDNUmKSLTBxT68jE3E9MqE2UKANiAAFAZgZoo4JqppOl0WGpGIUGcOSWYsIUqaLLASABEASIig58Hzp7K35oYjwhAQIBIwCB9G0FCGW0fcOAs6VQc0UsA9Yd48AoRZt+IwAXWfh3xoB28XWbJIcaAEsbHNIZnFOaAjejcxdBK3FgqqyNb+U6XbsXjE0VTI0SzDYODHUQzFsMTAQCnScbsSkTSYBak7ql5EA7LS34kBZhgDBh+K5gcIRiyFQhEswcFoyPD5pqqz7SKGYZkj4xGELram7Kl6Z8Cq7TzBxOmAIDAoPjA8PxwLDEsIjA4IQuDBgcH/+OAxPF0DBYwAZ7oAE/MSlVe9jDUrrTMZiLXUNxIB34cejmX7gfkv4YDhWYlDMYuj8ZRCsYPAQYoCgYMBGEC2DQeMFgLMKwJAgISZwq1NTSqOxWGaSHq1qU1a9vGahxoEidxoEjhxkkb1Ag8FgKBcsAcHCIYYhWYUBeYdgeYJgqYKAWQgMFQJMIwPMIgiEYAmEYIxmpVwpvymYjRU1NMzFyNUNXDPKKSDKWWK8vk8tft+6m4Ehu2/jZVLzAwJC2pgcCIcGwGCgwPA8OAcvYDQOBgIltgqBgUBMwlA1PowmBYDAGYOgEYQAqYOgAqiKgJSkzkv2gKGVcFAS7oWHMV8CAGigBigsCDizQkPkU3kS5y9igpDsVhESxlqhwZpFGmCY1xs6HYWYOxgSmOwHGg14bLDCTONVwpUNbkSItCbMw0wTOGN+OIAQ8FYGukvsKBmcSoSXmSKpEeYEiD/sNLzNCZVm3Zhz4w52JU1Nhnz8eXLWuZazs6y7jUtVeY1Naq2vq/jTU346/Gzlav49tYynlq+/02+sXazMPQXKYeBAWm/+NwxLRNdBamX9nIADfsnXoudz5ezR909C7i724KfXJAsdp12N+87rv9AlKrRHofcJazgF+14qYNoyJBxuqVTHYELWQLJ2n07d4FSRxsFxg4BQ1WNdbio8Qc5cBz9Pas9/62dXK7TWvuc7hjSV8Manz1S5vfNf3ePebw5h3vPw7S9zwu9wmrudNe5Vyzt3rgB7/tGQ2/WEDNJNXJhgVQ5VS5l3L8ZW9CbhcvwpwFsCYAYowaR0kiLEfZNiCHmS1Gn24MzWrWhVVpBi4jK1SxXuNbzYmiC8FDkHg6uN4pI1BGibuWSsD6WsTcKW2mpnwtUGc+Osz6iZKLWqfn/dn3/62y8eVZRK4ygZV2wlv2v13Sqrp8Zjkso41HoHTmwyU4buM6b/RlLfe9Mv8y4Rz/MyMk+8hGcsTNozlC+XwdwAAAv39qUhXQ1OpwrnbxSApVFuALYWJ/DJ2JihcMIeKSaJkj2DBMlwfAQQIQHo7/40DE3iusEq1eeYd40NgSQTZNybRwPBsQxsTTR9j0cOOTRg8T7g1trzJyZ08fSNyo+dSZPJsxiB41qmpnHtMTaYTRd8vddzXTGN3XdXdNe2Vp2Tfcq7WuPTx/Bs6Lc390+2+m19e3RW7Sc19tbDL6v3dRbYPO1ieReq5YnUQaVXCeOqHb6Wyd0TaeYIUAgABBJV3XWS1yFptF8zsiEgjLpPkMyZjHSNkYwczTCNbFVIEImsUAtjDSMRsyGxEyc44ORMkcdCCqQIvP70IRUNZk/+MwxPIrozKlv09YAYZr4M8kSdFgHtMhcMJMIaLDwLOIDuQ0JCAwVBDD7Ey4BhhCAddINBYY9TkIEYEU3fSA06VquI1pEAvuKJQKRCjJyB62ZGwhZTOpREkVlzOI02H1hEH3qL4lYDI0mpZDrty9dVRqDT6zSpG/LeJgNaoVzxeGBUQxzC34QCChU9EF05HYqTcOXZJKITFXVnoN/+OAxNJZ/BZ9v5nIBNRq7NNbpZQ87wvPZeCVNAFB5tNdTF521XSokvVLVx8JiUU1PJbs9LIxDrkv5j8tl2pVG45Xhbs7cmHn8opc/b+SF5mJtydJgsjdhYalXO2OmeJc8P0rswzDL6OpKLNvCrA8zRRF3otD0gg6KzMtlUQhrHG3SvlBkxG5t96V2EynkWlMsWp2VM5jLN4AfpSiVuJIqFs74lKwe1eXeWaHd/vf/9tptNgc40cTO4gMJAY2Ffzph3iWjIwYEIWMuqAwIF3eT1MUBhEgcBBiMYPs16SmxwsxB9hRlYbWZUqqz6g5DCS+aUCexaJ71VnFfWJTzSS3YYNcpbdk7Nlow1E0vX2cph0Rh2GVzsnlCm8NMs24K7YizmKzMtuRKHu4qTWgpY4ypGmNwgF+YClNIyrlLKYBfnCJS6JYsEurEirjr0eNl7yyp2q0al01Lrtatn8pf36ztY1s6rlv3H3fvv/Rxh16B+JPfhnKrDO5TLastwq0tLWpu46lVWlpa2cp0+kOTT+WIYnKd+KsPyCG4fpb0qxuQ1qm/+NgxP5PTBZ3H5zAJI1Wpu1rVXKtDWOONWlpa0u7/yqrZq5bqv/PyuL4Q/TSyLyiHJdDEsmIcxhyzL85T9WU1aXGrZrVcJV9aVaprVVMQU1FMy45OS41VVVVVVVVVVVVVUxBTUUzLjk5LjVVVVVVVVVVVVVVVVVVVVVVVVVVVVVVVVVVVVVVVVVVVVVVVVVVVVVVVVVVVVVVVVVVVVVVVVVVVVVVVVVVVVVVVVVVVVVVVVVVVVVVVVVVVVVVVVVVVVVVVVVVVVVVVVVVVVVVVVVVVVVVVVVVVVVVVVVVVVVVVVVVVVVVVVVVVVVVVVVVVVVVVVVVVVVVVVVVVVVVVVVVVVVVVVVVVVVVVVVVVVVVVVVVVVVVVVVVVVVVVVVVVVVVVVVVVVVVVVVVVVVVVVVVVVVVVVVVVf/jEMTYAAAD/AHAAABVVVVVVVVVVVVVVVVVVVVVVVVVVVVVVVVVVVVVVVVVVVVVVVVVVVVUQUcAAAAAAAAAAAAAAAAAAAAAAAAAAAAAAAAAAAAAAABNZXJyaWFtIFdlYnN0ZXIAAAAAAAAAAAAAAAAAAAAAAAAAAAAAAAAAAAAAAAAAAAAAAAAAAAAAAAAAAAAAAAAAAAAAAAAAAAAAAAAAAAAAAAAAAAAAAAAAAAAAAAAA/w==\" type=\"audio/mpeg\" />\n",
       "                    Your browser does not support the audio element.\n",
       "                </audio>\n",
       "              "
      ],
      "text/plain": [
       "<IPython.lib.display.Audio object>"
      ]
     },
     "execution_count": 3,
     "metadata": {},
     "output_type": "execute_result"
    }
   ],
   "source": [
    "print(\"PRONOUNCIATION:\")\n",
    "res = list(str)    \n",
    "str_1 = data[0][\"hwi\"][\"prs\"][0][\"sound\"][\"audio\"]\n",
    "Audio(\"https://media.merriam-webster.com/audio/prons/en/us/mp3/\" + res[0] + \"/\"+ str_1 +\".mp3\", autoplay=True)"
   ]
  },
  {
   "cell_type": "code",
   "execution_count": null,
   "id": "3eaa86d0",
   "metadata": {},
   "outputs": [],
   "source": []
  }
 ],
 "metadata": {
  "kernelspec": {
   "display_name": "Python 3 (ipykernel)",
   "language": "python",
   "name": "python3"
  },
  "language_info": {
   "codemirror_mode": {
    "name": "ipython",
    "version": 3
   },
   "file_extension": ".py",
   "mimetype": "text/x-python",
   "name": "python",
   "nbconvert_exporter": "python",
   "pygments_lexer": "ipython3",
   "version": "3.9.7"
  }
 },
 "nbformat": 4,
 "nbformat_minor": 5
}
